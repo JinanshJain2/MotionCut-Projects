{
 "cells": [
  {
   "cell_type": "code",
   "execution_count": 2,
   "id": "1f881248-5e8b-464f-9c6e-1fffb02b3b50",
   "metadata": {},
   "outputs": [
    {
     "name": "stdout",
     "output_type": "stream",
     "text": [
      "Loading flu.aiml...done (0.00 seconds)\n",
      "Welcome to Flu Diagonosis Center\n"
     ]
    },
    {
     "name": "stdin",
     "output_type": "stream",
     "text": [
      "You: Fever\n"
     ]
    },
    {
     "name": "stdout",
     "output_type": "stream",
     "text": [
      "Expert System:No Flu\n"
     ]
    },
    {
     "name": "stdin",
     "output_type": "stream",
     "text": [
      "You: Cough\n"
     ]
    },
    {
     "name": "stdout",
     "output_type": "stream",
     "text": [
      "Expert System:No Flu\n"
     ]
    },
    {
     "name": "stdin",
     "output_type": "stream",
     "text": [
      "You: Cough, Fever\n"
     ]
    },
    {
     "name": "stdout",
     "output_type": "stream",
     "text": [
      "Expert System:You may have a Flu\n"
     ]
    },
    {
     "name": "stdin",
     "output_type": "stream",
     "text": [
      "You: exit\n"
     ]
    },
    {
     "name": "stdout",
     "output_type": "stream",
     "text": [
      "Goodbye!\n"
     ]
    }
   ],
   "source": [
    "import aiml\n",
    "\n",
    "def main():\n",
    "    kernel = aiml.Kernel()\n",
    "\n",
    "    kernel.learn(\"flu.aiml\")\n",
    "\n",
    "    print(\"Welcome to Flu Diagonosis Center\")\n",
    "\n",
    "    while True:\n",
    "        user_input = input(\"You:\").strip().upper()\n",
    "        if user_input == \"EXIT\":\n",
    "            print(\"Goodbye!\")\n",
    "            break\n",
    "\n",
    "        response = kernel.respond(user_input)\n",
    "        print(\"Expert System:\" +response)\n",
    "\n",
    "if __name__ == \"__main__\":\n",
    "    main()"
   ]
  }
 ],
 "metadata": {
  "kernelspec": {
   "display_name": "Python 3 (ipykernel)",
   "language": "python",
   "name": "python3"
  },
  "language_info": {
   "codemirror_mode": {
    "name": "ipython",
    "version": 3
   },
   "file_extension": ".py",
   "mimetype": "text/x-python",
   "name": "python",
   "nbconvert_exporter": "python",
   "pygments_lexer": "ipython3",
   "version": "3.11.7"
  }
 },
 "nbformat": 4,
 "nbformat_minor": 5
}
